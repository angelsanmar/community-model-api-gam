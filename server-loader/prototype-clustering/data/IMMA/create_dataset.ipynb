{
 "cells": [
  {
   "cell_type": "code",
   "execution_count": 2,
   "metadata": {},
   "outputs": [],
   "source": [
    "import pandas as pd\n",
    "import numpy as np\n",
    "import json\n",
    "import requests"
   ]
  },
  {
   "cell_type": "code",
   "execution_count": 15,
   "metadata": {},
   "outputs": [],
   "source": [
    "API = 'https://api2.mksmart.org/'\n",
    "dataset_ID = 'e7d38f43-26bb-41e0-ba72-7bc4bd3f0a1c'\n",
    "authkey = '0a7eccb2-997d-47d0-8c9f-05be9afc9772'"
   ]
  },
  {
   "cell_type": "code",
   "execution_count": 19,
   "metadata": {},
   "outputs": [],
   "source": [
    "def get_objects(api, dataset, key):\n",
    "    url = api + 'object/' + dataset\n",
    "    r = requests.get(url, auth=(key, key))\n",
    "\n",
    "    if r.status_code == 200:\n",
    "        data = json.loads(r.text)\n",
    "        return data\n",
    "    else:\n",
    "        print(r.status_code)\n",
    "        print(r.text)"
   ]
  },
  {
   "cell_type": "code",
   "execution_count": 20,
   "metadata": {},
   "outputs": [
    {
     "name": "stdout",
     "output_type": "stream",
     "text": [
      "500\n"
     ]
    }
   ],
   "source": [
    "get_objects(API, dataset_ID, authkey)"
   ]
  },
  {
   "cell_type": "code",
   "execution_count": null,
   "metadata": {},
   "outputs": [],
   "source": [
    "def upload(api, docId, dataset, payload, key): \n",
    "    payload['_id'] = docId \n",
    "\n",
    "    try: \n",
    "\n",
    "        r = requests.put(api+'/object/'+ dataset+'/'+docId,  \n",
    "\n",
    "            json=payload,  \n",
    "\n",
    "            auth=(key,key)) \n",
    "\n",
    "        if r.status_code == 200: \n",
    "\n",
    "            print(r.status_code) \n",
    "\n",
    "        else: \n",
    "\n",
    "            print(r.status_code, r.reason, r.content) \n",
    "\n",
    "    except Exception as e: \n",
    "\n",
    "        print(e) "
   ]
  }
 ],
 "metadata": {
  "interpreter": {
   "hash": "2eda911c1349e14150f3457c345dec4ef98915934f84fe9f41fb08d43d62ec7c"
  },
  "kernelspec": {
   "display_name": "Python 3.9.6 64-bit ('community-model': pyenv)",
   "language": "python",
   "name": "python3"
  },
  "language_info": {
   "codemirror_mode": {
    "name": "ipython",
    "version": 3
   },
   "file_extension": ".py",
   "mimetype": "text/x-python",
   "name": "python",
   "nbconvert_exporter": "python",
   "pygments_lexer": "ipython3",
   "version": "3.9.6"
  },
  "orig_nbformat": 4
 },
 "nbformat": 4,
 "nbformat_minor": 2
}
