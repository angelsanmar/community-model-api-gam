{
 "cells": [
  {
   "cell_type": "code",
   "execution_count": 1,
   "id": "e06addfc",
   "metadata": {},
   "outputs": [],
   "source": [
    "%load_ext autoreload\n",
    "%autoreload 2"
   ]
  },
  {
   "cell_type": "code",
   "execution_count": 2,
   "id": "148d9119",
   "metadata": {},
   "outputs": [],
   "source": [
    "import pandas as pd\n",
    "import numpy as np\n",
    "import json"
   ]
  },
  {
   "cell_type": "code",
   "execution_count": 3,
   "id": "f6fba046",
   "metadata": {},
   "outputs": [],
   "source": [
    "#--------------------------------------------------------------------------------------------------------------------------\n",
    "#\n",
    "#--------------------------------------------------------------------------------------------------------------------------"
   ]
  },
  {
   "cell_type": "code",
   "execution_count": 4,
   "id": "cc5aa578",
   "metadata": {},
   "outputs": [],
   "source": [
    "from context import community_module, dao, communityModel\n",
    "from communityModel.communityModel_notebook import CommunityModelNotebook\n",
    "from dao.dao_json import DAO_json"
   ]
  },
  {
   "cell_type": "code",
   "execution_count": 5,
   "id": "81d77722",
   "metadata": {},
   "outputs": [],
   "source": [
    "import os\n",
    "def getFilesDirectory(route):\n",
    "    for root, dirs, files in os.walk(route):\n",
    "        pass\n",
    "    return files"
   ]
  },
  {
   "cell_type": "code",
   "execution_count": 6,
   "id": "2b6760d6",
   "metadata": {},
   "outputs": [
    {
     "data": {
      "text/plain": [
       "['S-Emotions-S-Artworks (artist_country).json',\n",
       " 'S-Emotions-S-Artworks (artwork_artistic_movement).json',\n",
       " 'S-Emotions-S-Artworks (iconclass).json',\n",
       " 'S-Emotions-S-Artworks (materials).json',\n",
       " 'S-Sentiments-S-Artworks (artist_country).json',\n",
       " 'S-Sentiments-S-Artworks (artwork_artistic_movement).json',\n",
       " 'S-Sentiments-S-Artworks (iconclass).json',\n",
       " 'S-Sentiments-S-Artworks (materials).json']"
      ]
     },
     "execution_count": 6,
     "metadata": {},
     "output_type": "execute_result"
    }
   ],
   "source": [
    "result = getFilesDirectory('perspectives/GAM LDH/')\n",
    "#result = [result[0]]\n",
    "result"
   ]
  },
  {
   "cell_type": "code",
   "execution_count": 7,
   "id": "2c8749d4",
   "metadata": {},
   "outputs": [],
   "source": [
    "filename = \"data/generated/dataset_celi processed.json\""
   ]
  },
  {
   "cell_type": "code",
   "execution_count": 8,
   "id": "4e4ccc0d",
   "metadata": {},
   "outputs": [],
   "source": [
    "def generateCommunities(algorithm, perspectives):\n",
    "    for perspectiveFilename in perspectives:\n",
    "        # Perspective (user attributes, artworks similarity features, emotion similarity on plutchik emotions similar artworks)\n",
    "        with open(perspectivesDirectory + perspectiveFilename + '', 'r', encoding='utf8') as f:\n",
    "            perspective = json.load(f)\n",
    "        \n",
    "        print(perspective)\n",
    "        # Update algorithm attributes\n",
    "        #name = perspectiveFilename.rsplit(\" \",1)[0] + \" \" + algorithm\n",
    "        #perspective[\"id\"] = name\n",
    "        #perspective[\"name\"] = name\n",
    "        perspective[\"algorithm\"][\"name\"] = algorithm\n",
    "\n",
    "        daoJson = DAO_json(filename)\n",
    "        communityModel = CommunityModelNotebook(perspective, dao = daoJson)\n",
    "\n",
    "        # Different percentages\n",
    "        pList = [0.1, 0.3, 0.5, 0.7, 0.9]\n",
    "        pList = [0.5]\n",
    "\n",
    "        for p in pList:\n",
    "            communityModel.start(percentageExplainability = p)"
   ]
  },
  {
   "cell_type": "code",
   "execution_count": null,
   "id": "712d947c",
   "metadata": {},
   "outputs": [],
   "source": [
    "# Import different perspectives\n",
    "perspectivesDirectory = 'perspectives/GAM LDH/'\n",
    "\n",
    "perspectives = getFilesDirectory(perspectivesDirectory)\n",
    "#perspectives = [perspectives[0]]\n",
    "#perspectives = [perspectives[1]]\n",
    "\n",
    "print(perspectives)\n",
    "\n",
    "# Set the algorithm to use\n",
    "algorithm = \"agglomerative\"\n",
    "algorithms = ['agglomerative', 'kmedoids']\n",
    "algorithms = ['agglomerative']\n",
    "\n",
    "for algorithm in algorithms:\n",
    "    generateCommunities(algorithm, perspectives)\n"
   ]
  },
  {
   "cell_type": "code",
   "execution_count": null,
   "id": "74a31d6c",
   "metadata": {},
   "outputs": [],
   "source": []
  },
  {
   "cell_type": "code",
   "execution_count": null,
   "id": "f7eb4490",
   "metadata": {},
   "outputs": [],
   "source": []
  },
  {
   "cell_type": "code",
   "execution_count": null,
   "id": "88abf67f",
   "metadata": {},
   "outputs": [],
   "source": []
  }
 ],
 "metadata": {
  "kernelspec": {
   "display_name": "Python 3 (ipykernel)",
   "language": "python",
   "name": "python3"
  },
  "language_info": {
   "codemirror_mode": {
    "name": "ipython",
    "version": 3
   },
   "file_extension": ".py",
   "mimetype": "text/x-python",
   "name": "python",
   "nbconvert_exporter": "python",
   "pygments_lexer": "ipython3",
   "version": "3.10.4"
  }
 },
 "nbformat": 4,
 "nbformat_minor": 5
}
