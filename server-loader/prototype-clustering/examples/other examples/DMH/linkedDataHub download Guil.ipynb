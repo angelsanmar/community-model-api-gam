{
 "cells": [
  {
   "cell_type": "code",
   "execution_count": 16,
   "id": "e06addfc",
   "metadata": {},
   "outputs": [
    {
     "name": "stdout",
     "output_type": "stream",
     "text": [
      "The autoreload extension is already loaded. To reload it, use:\n",
      "  %reload_ext autoreload\n"
     ]
    }
   ],
   "source": [
    "%load_ext autoreload\n",
    "%autoreload 2"
   ]
  },
  {
   "cell_type": "code",
   "execution_count": 17,
   "id": "148d9119",
   "metadata": {},
   "outputs": [],
   "source": [
    "from requests.auth import HTTPBasicAuth\n",
    "import requests\n",
    "import json"
   ]
  },
  {
   "cell_type": "code",
   "execution_count": null,
   "id": "3ba6c34e",
   "metadata": {},
   "outputs": [],
   "source": [
    "apidict = {}\n",
    "apidict['GAMGame_stories_RN_UNITO'] = 'https://api2.mksmart.org/object/d305a5e7-fc51-4b1d-9e05-fa7191d5bebd'"
   ]
  },
  {
   "cell_type": "code",
   "execution_count": 20,
   "id": "79ef8e5f",
   "metadata": {},
   "outputs": [],
   "source": [
    "for key,item in apidict.items():\n",
    "    headers = {'Accept': 'application/json'}\n",
    "    auth = HTTPBasicAuth('0a7eccb2-997d-47d0-8c9f-05be9afc9772', '0a7eccb2-997d-47d0-8c9f-05be9afc9772')\n",
    "    # defining a params dict for the parameters to be sent to the API\n",
    "    # Some datasets work with 'pagesize' and others with 'limit', so it is required to switch\n",
    "    # between them as needed in order to retrieve the full dataset from Linked Data Hub.\n",
    "    #PARAMS = {'limit':100000}\n",
    "    PARAMS = {'pagesize': 100000}\n",
    "    PARAMS = {}\n",
    "    response = requests.get(item,headers=None,auth=auth, params=PARAMS)\n",
    "\n",
    "    data2 = json.loads(response.content.decode(response.encoding))\n",
    "\n",
    "    with open('data/' + key + '.json', 'w') as f:\n",
    "        json.dump(data2, f, indent=4)"
   ]
  },
  {
   "cell_type": "code",
   "execution_count": null,
   "id": "396e6d45",
   "metadata": {},
   "outputs": [],
   "source": []
  },
  {
   "cell_type": "code",
   "execution_count": null,
   "id": "21736b92",
   "metadata": {},
   "outputs": [],
   "source": []
  },
  {
   "cell_type": "code",
   "execution_count": null,
   "id": "19ff94f3",
   "metadata": {},
   "outputs": [],
   "source": []
  },
  {
   "cell_type": "code",
   "execution_count": null,
   "id": "7faccd38",
   "metadata": {},
   "outputs": [],
   "source": []
  }
 ],
 "metadata": {
  "kernelspec": {
   "display_name": "Python 3 (ipykernel)",
   "language": "python",
   "name": "python3"
  },
  "language_info": {
   "codemirror_mode": {
    "name": "ipython",
    "version": 3
   },
   "file_extension": ".py",
   "mimetype": "text/x-python",
   "name": "python",
   "nbconvert_exporter": "python",
   "pygments_lexer": "ipython3",
   "version": "3.10.4"
  }
 },
 "nbformat": 4,
 "nbformat_minor": 5
}
