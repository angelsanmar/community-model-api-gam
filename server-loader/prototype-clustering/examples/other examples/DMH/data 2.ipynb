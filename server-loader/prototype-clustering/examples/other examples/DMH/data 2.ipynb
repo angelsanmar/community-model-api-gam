{
 "cells": [
  {
   "cell_type": "markdown",
   "id": "cbb9d7f0",
   "metadata": {},
   "source": [
    "## DMH - DATA"
   ]
  },
  {
   "cell_type": "markdown",
   "id": "10839024",
   "metadata": {},
   "source": [
    "DMH: Stories collected from users\n",
    "\n",
    "Title: \tDMH: Stories collected from users\n",
    "Description: \tSeveral stories of design objects collected from users during workshops.\n",
    "UUID: \t88abdd7d-73d9-4a75-902b-89c78f9df7c0\n",
    "URL: https://spice.kmi.open.ac.uk/dataset/details/91"
   ]
  },
  {
   "cell_type": "markdown",
   "id": "7491a8fc",
   "metadata": {},
   "source": [
    "Title: \tDMH: Narratives 123 stories - DEGARI Classification\n",
    "Description: \tDMH: Narratives 123 stories about design objects from workshop participants, classified by DEGARI (UNITO)\n",
    "UUID: \t5b6b876d-ad95-4bd8-a27f-627a5a98fdb5\n",
    "URL: https://spice.kmi.open.ac.uk/dataset/json/details/95\n",
    "\n",
    "\n",
    "\n"
   ]
  },
  {
   "cell_type": "code",
   "execution_count": null,
   "id": "b3a192c9",
   "metadata": {},
   "outputs": [],
   "source": []
  },
  {
   "cell_type": "code",
   "execution_count": null,
   "id": "99675f8c",
   "metadata": {},
   "outputs": [],
   "source": []
  },
  {
   "cell_type": "code",
   "execution_count": null,
   "id": "849692c8",
   "metadata": {},
   "outputs": [],
   "source": []
  },
  {
   "cell_type": "code",
   "execution_count": null,
   "id": "65eadac7",
   "metadata": {},
   "outputs": [],
   "source": []
  },
  {
   "cell_type": "code",
   "execution_count": null,
   "id": "892cc72e",
   "metadata": {},
   "outputs": [],
   "source": []
  },
  {
   "cell_type": "code",
   "execution_count": null,
   "id": "0e32556d",
   "metadata": {},
   "outputs": [],
   "source": []
  },
  {
   "cell_type": "code",
   "execution_count": null,
   "id": "482013bd",
   "metadata": {},
   "outputs": [],
   "source": []
  }
 ],
 "metadata": {
  "kernelspec": {
   "display_name": "Python 3 (ipykernel)",
   "language": "python",
   "name": "python3"
  },
  "language_info": {
   "codemirror_mode": {
    "name": "ipython",
    "version": 3
   },
   "file_extension": ".py",
   "mimetype": "text/x-python",
   "name": "python",
   "nbconvert_exporter": "python",
   "pygments_lexer": "ipython3",
   "version": "3.10.4"
  }
 },
 "nbformat": 4,
 "nbformat_minor": 5
}
