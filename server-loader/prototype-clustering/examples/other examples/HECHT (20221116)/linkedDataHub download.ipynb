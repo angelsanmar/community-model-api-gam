{
 "cells": [
  {
   "cell_type": "code",
   "execution_count": 5,
   "id": "e06addfc",
   "metadata": {},
   "outputs": [
    {
     "name": "stdout",
     "output_type": "stream",
     "text": [
      "The autoreload extension is already loaded. To reload it, use:\n",
      "  %reload_ext autoreload\n"
     ]
    }
   ],
   "source": [
    "%load_ext autoreload\n",
    "%autoreload 2"
   ]
  },
  {
   "cell_type": "code",
   "execution_count": 6,
   "id": "148d9119",
   "metadata": {},
   "outputs": [],
   "source": [
    "from requests.auth import HTTPBasicAuth\n",
    "import requests\n",
    "import pandas as pd\n",
    "import json"
   ]
  },
  {
   "cell_type": "code",
   "execution_count": 7,
   "id": "7c099abf",
   "metadata": {},
   "outputs": [],
   "source": [
    "#-------------------------------------------------------------------------------------------------------------------------\n",
    "# 5 últimas entradas GAM y DMH\n",
    "#-------------------------------------------------------------------------------------------------------------------------\n",
    "\n",
    "apidict = {}\n",
    "\n",
    "\n",
    "# https://spice.kmi.open.ac.uk/dataset/details/121\n",
    "# Hecht_DEGARI_emotions \n",
    "apidict['Hecht_DEGARI_emotions'] = 'https://api2.mksmart.org/object/13d66535-841a-45a2-b68f-7b10ada1c3d3'\n"
   ]
  },
  {
   "cell_type": "code",
   "execution_count": 8,
   "id": "79ef8e5f",
   "metadata": {},
   "outputs": [],
   "source": [
    "for key,item in apidict.items():\n",
    "    headers = {'Accept': 'application/json'}\n",
    "    auth = HTTPBasicAuth('0a7eccb2-997d-47d0-8c9f-05be9afc9772', '0a7eccb2-997d-47d0-8c9f-05be9afc9772')\n",
    "    # defining a params dict for the parameters to be sent to the API\n",
    "    #PARAMS = {'pagesize': 100000}\n",
    "    PARAMS = {'limit': 100000}\n",
    "    #PARAMS = {}\n",
    "    response = requests.get(item,headers=None,auth=auth, params=PARAMS)\n",
    "    #data = response.json()\n",
    "    #data2 = json.dumps(data)\n",
    "    #data2\n",
    "\n",
    "    data2 = json.loads(response.content.decode(response.encoding))\n",
    "    #print(data2)\n",
    "\n",
    "    # For the ones in GAM which don't return the results directly (Gam_dataset, Gam_Game_Activity); it seems to works for the ones that are not too\n",
    "    #data2 = data2['results']\n",
    "    \n",
    "    #print(data2)\n",
    "    #data2 = data2['results']\n",
    "    \n",
    "    #data2 = func2(data2[0])\n",
    "                  \n",
    "    with open('data/' + key + '.json', 'w') as f:\n",
    "        json.dump(data2, f, indent=4)\n"
   ]
  },
  {
   "cell_type": "code",
   "execution_count": null,
   "id": "21736b92",
   "metadata": {},
   "outputs": [],
   "source": [
    "#-------------------------------------------------------------------------------------------------------------------------\n",
    "# For the ones that are at a deeper level\n",
    "#-------------------------------------------------------------------------------------------------------------------------\n",
    "\n"
   ]
  },
  {
   "cell_type": "code",
   "execution_count": null,
   "id": "a926aac1",
   "metadata": {},
   "outputs": [],
   "source": [
    "filename = 'DMH_Narratives 123 stories - DEGARI Classification'"
   ]
  },
  {
   "cell_type": "code",
   "execution_count": null,
   "id": "f8dcae62",
   "metadata": {},
   "outputs": [],
   "source": [
    "# Perspective (user attributes, artworks similarity features, emotion similarity on plutchik emotions similar artworks)\n",
    "with open('data/' + filename + '.json', 'r', encoding='utf8') as f:\n",
    "    data = json.load(f)\n",
    "    "
   ]
  },
  {
   "cell_type": "code",
   "execution_count": null,
   "id": "08768d56",
   "metadata": {},
   "outputs": [],
   "source": [
    "data2 = func2(data)\n",
    "data2"
   ]
  },
  {
   "cell_type": "code",
   "execution_count": null,
   "id": "19ff94f3",
   "metadata": {},
   "outputs": [],
   "source": [
    "def func2(data):\n",
    "    artefactList = []\n",
    "    for key,value in data.items():\n",
    "        if type(value) == type(dict()):\n",
    "            artefactList.append(value)\n",
    "    return artefactList\n",
    "\n",
    "\n",
    "artefactList = func2(data2)\n",
    "print(artefactList)\n",
    "with open('data/' + key + '.json', 'w') as f:\n",
    "    json.dump(artefactList, f, indent=4)"
   ]
  },
  {
   "cell_type": "code",
   "execution_count": null,
   "id": "7faccd38",
   "metadata": {},
   "outputs": [],
   "source": []
  },
  {
   "cell_type": "code",
   "execution_count": null,
   "id": "cacee317",
   "metadata": {},
   "outputs": [],
   "source": []
  }
 ],
 "metadata": {
  "kernelspec": {
   "display_name": "Python 3 (ipykernel)",
   "language": "python",
   "name": "python3"
  },
  "language_info": {
   "codemirror_mode": {
    "name": "ipython",
    "version": 3
   },
   "file_extension": ".py",
   "mimetype": "text/x-python",
   "name": "python",
   "nbconvert_exporter": "python",
   "pygments_lexer": "ipython3",
   "version": "3.10.4"
  }
 },
 "nbformat": 4,
 "nbformat_minor": 5
}
