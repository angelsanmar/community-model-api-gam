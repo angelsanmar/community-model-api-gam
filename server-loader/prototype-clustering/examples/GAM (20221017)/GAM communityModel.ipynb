{
 "cells": [
  {
   "cell_type": "code",
   "execution_count": 77,
   "id": "e06addfc",
   "metadata": {},
   "outputs": [
    {
     "name": "stdout",
     "output_type": "stream",
     "text": [
      "The autoreload extension is already loaded. To reload it, use:\n",
      "  %reload_ext autoreload\n"
     ]
    }
   ],
   "source": [
    "%load_ext autoreload\n",
    "%autoreload 2"
   ]
  },
  {
   "cell_type": "code",
   "execution_count": 78,
   "id": "148d9119",
   "metadata": {},
   "outputs": [],
   "source": [
    "import pandas as pd\n",
    "import numpy as np\n",
    "import json"
   ]
  },
  {
   "cell_type": "code",
   "execution_count": 79,
   "id": "f6fba046",
   "metadata": {},
   "outputs": [],
   "source": [
    "#--------------------------------------------------------------------------------------------------------------------------\n",
    "#\n",
    "#--------------------------------------------------------------------------------------------------------------------------"
   ]
  },
  {
   "cell_type": "code",
   "execution_count": 80,
   "id": "cc5aa578",
   "metadata": {},
   "outputs": [],
   "source": [
    "from context import community_module, dao, communityModel\n",
    "from communityModel.communityModel import CommunityModel\n",
    "from dao.dao_json import DAO_json"
   ]
  },
  {
   "cell_type": "code",
   "execution_count": 85,
   "id": "e416b5d3",
   "metadata": {},
   "outputs": [],
   "source": [
    "filename = 'gam author agglomerative'\n",
    "filename = 'gam iconclass agglomerative'\n",
    "filename = 'gam iconclass emotion'\n",
    "filename = 'GAM similar user sentiment in similar artworks (iconclass)'\n",
    "filename = 'GAM similar user sentiment in similar artworks (iconclass) annotated-stories'"
   ]
  },
  {
   "cell_type": "code",
   "execution_count": 86,
   "id": "161fe43a",
   "metadata": {},
   "outputs": [
    {
     "data": {
      "text/plain": [
       "{'id': 'GAM similar user sentiment in similar artworks (iconclass)',\n",
       " 'name': 'GAM similar user sentiment in similar artworks (iconclass)',\n",
       " 'algorithm': {'name': 'agglomerative', 'params': []},\n",
       " 'similarity_functions': [{'sim_function': {'name': 'IconClassSimilarityDAO',\n",
       "    'params': [],\n",
       "    'on_attribute': {'att_name': 'Iconclass_subjects_curators',\n",
       "     'att_type': 'String'},\n",
       "    'weight': 0.8}}],\n",
       " 'user_attributes': [{'att_name': 'relationship_with_arts',\n",
       "   'att_type': 'String'},\n",
       "  {'att_name': 'relationship_with_museums', 'att_type': 'String'}],\n",
       " 'interaction_similarity_functions': [{'sim_function': {'name': 'PlutchikEmotionSimilarityDAO',\n",
       "    'params': [],\n",
       "    'on_attribute': {'att_name': 'emotions', 'att_type': 'dict'},\n",
       "    'interaction_object': {'att_name': 'artworkId',\n",
       "     'att_type': 'String',\n",
       "     'mode': 'similar'}}}]}"
      ]
     },
     "execution_count": 86,
     "metadata": {},
     "output_type": "execute_result"
    }
   ],
   "source": [
    "# Perspective (user attributes, artworks similarity features, emotion similarity on plutchik emotions similar artworks)\n",
    "with open('perspectives/' + filename + '.json', 'r', encoding='utf8') as f:\n",
    "    perspective = json.load(f)[0]\n",
    "perspective"
   ]
  },
  {
   "cell_type": "code",
   "execution_count": 87,
   "id": "cbb6014b",
   "metadata": {},
   "outputs": [
    {
     "name": "stdout",
     "output_type": "stream",
     "text": [
      "route: C:\\Users\\user\\root\\WORK\\python\\20221017\\community-model-api-gam\\server-loader\\prototype-clustering\\communityModel\\data\\processed\\GAM user_interactions.json\n",
      "route: C:\\Users\\user\\root\\WORK\\python\\20221017\\community-model-api-gam\\server-loader\\prototype-clustering\\communityModel\\data\\GAM user_interactions.json\n",
      "route: C:\\Users\\user\\root\\WORK\\python\\20221017\\community-model-api-gam\\server-loader\\prototype-clustering\\communityModel\\data\\annotated-stories.json\n"
     ]
    }
   ],
   "source": [
    "communityModel = CommunityModel(perspective, daoRoute = 'data/processed/GAM user_interactions.json')\n",
    "communityModel = CommunityModel(perspective, daoRoute = 'data/GAM user_interactions.json')\n",
    "communityModel = CommunityModel(perspective, daoRoute = 'data/annotated-stories.json')"
   ]
  },
  {
   "cell_type": "code",
   "execution_count": 88,
   "id": "c48886e7",
   "metadata": {},
   "outputs": [
    {
     "name": "stdout",
     "output_type": "stream",
     "text": [
      "distance matrix route\n",
      "C:\\Users\\user\\root\\WORK\\python\\20221017\\community-model-api-gam\\server-loader\\prototype-clustering\\communityModel\\distanceMatrix\\GAM similar user sentiment in similar artworks (iconclass).json\n",
      "distance matrix clustering file doesnt exist\n",
      "hey\n",
      "abspath: C:\\Users\\user\\root\\WORK\\python\\20221017\\community-model-api-gam\\server-loader\\prototype-clustering\\community_module\\similarity\n",
      "relpath: ../../communityModel/data/GAM_Catalogue_plus.json\n",
      "route: C:\\Users\\user\\root\\WORK\\python\\20221017\\community-model-api-gam\\server-loader\\prototype-clustering\\communityModel\\data\\GAM_Catalogue_plus.json\n",
      "[[ 8.25  9.   28.75 ...  6.5  10.   10.  ]\n",
      " [ 9.    7.   31.   ...  6.5   7.    7.  ]\n",
      " [28.75 31.   28.25 ... 29.25 31.   31.  ]\n",
      " ...\n",
      " [ 6.5   6.5  29.25 ...  1.    3.    3.  ]\n",
      " [10.    7.   31.   ...  3.    2.    3.  ]\n",
      " [10.    7.   31.   ...  3.    3.    3.  ]]\n",
      "algorithm: <class 'community_module.community_detection.agglomerativeCommunityDetection.AgglomerativeCommunityDetection'>\n",
      "IO_columns: ['artworkId', 'emotions']\n",
      "\n",
      "\n",
      "\n",
      "generate json clustering/GAM similar user sentiment in similar artworks (iconclass) (agglomerative) (0.5).json\n",
      "\n",
      "\n",
      "\n"
     ]
    }
   ],
   "source": [
    "communityModel.start()"
   ]
  },
  {
   "cell_type": "code",
   "execution_count": null,
   "id": "1194afad",
   "metadata": {},
   "outputs": [],
   "source": []
  },
  {
   "cell_type": "code",
   "execution_count": null,
   "id": "fafe51c4",
   "metadata": {},
   "outputs": [],
   "source": []
  },
  {
   "cell_type": "code",
   "execution_count": null,
   "id": "74a31d6c",
   "metadata": {},
   "outputs": [],
   "source": []
  }
 ],
 "metadata": {
  "kernelspec": {
   "display_name": "Python 3 (ipykernel)",
   "language": "python",
   "name": "python3"
  },
  "language_info": {
   "codemirror_mode": {
    "name": "ipython",
    "version": 3
   },
   "file_extension": ".py",
   "mimetype": "text/x-python",
   "name": "python",
   "nbconvert_exporter": "python",
   "pygments_lexer": "ipython3",
   "version": "3.10.4"
  }
 },
 "nbformat": 4,
 "nbformat_minor": 5
}
